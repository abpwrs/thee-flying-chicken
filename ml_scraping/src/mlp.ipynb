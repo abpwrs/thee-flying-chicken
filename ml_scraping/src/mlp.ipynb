{
 "cells": [
  {
   "cell_type": "code",
   "execution_count": 24,
   "metadata": {},
   "outputs": [],
   "source": [
    "import nltk\n",
    "import glob\n",
    "import os\n",
    "import random\n",
    "import time\n",
    "import numpy as np \n",
    "import pickle\n",
    "from sklearn import *\n",
    "from sklearn.model_selection import train_test_split\n",
    "from sklearn.metrics import classification_report\n",
    "from sklearn.ensemble import RandomForestClassifier\n",
    "from nltk.classify.scikitlearn import SklearnClassifier\n",
    "from nltk.tokenize import word_tokenize\n",
    "from nltk.stem import WordNetLemmatizer\n",
    "from nltk.corpus import stopwords\n",
    "from string import punctuation\n",
    "import tensorflow as tf\n",
    "from tensorflow import keras\n",
    "from tensorflow.keras.metrics import MAE, MSE\n",
    "from tensorflow.keras.callbacks import ModelCheckpoint, TensorBoard"
   ]
  },
  {
   "cell_type": "code",
   "execution_count": 21,
   "metadata": {},
   "outputs": [],
   "source": [
    "DATA_DIR = \"/Users/AlexPowers/projects/thee-flying-chicken/ml_scraping/data/\"\n",
    "PROJ_DIR = \"/Users/AlexPowers/projects/thee-flying-chicken/ml_scraping/\""
   ]
  },
  {
   "cell_type": "code",
   "execution_count": 3,
   "metadata": {},
   "outputs": [],
   "source": [
    "negMovie = []\n",
    "posMovie = []\n",
    "for f_name in glob.glob(os.path.join(DATA_DIR,\"movie_reviews\",\"neg\",\"*\")):\n",
    "    negMovie.append(open(f_name, 'r').read())\n",
    "\n",
    "for f_name in glob.glob(os.path.join(DATA_DIR,\"movie_reviews\", \"pos\", \"*\")):\n",
    "    posMovie.append(open(f_name,'r').read())"
   ]
  },
  {
   "cell_type": "code",
   "execution_count": 4,
   "metadata": {},
   "outputs": [],
   "source": [
    "negShort = open(os.path.join(DATA_DIR, \"pos_neg_data\", \"neg.txt\"), 'r').read()\n",
    "posShort = open(os.path.join(DATA_DIR, \"pos_neg_data\", \"pos.txt\"), 'r').read()\n"
   ]
  },
  {
   "cell_type": "code",
   "execution_count": 60,
   "metadata": {},
   "outputs": [],
   "source": [
    "documents = []\n",
    "all_words = []\n",
    "#  j is adjective, r is adverb, and v is verb\n",
    "lemmatizer = WordNetLemmatizer()\n",
    "\n",
    "for r in negShort.split(\"\\n\"):\n",
    "    documents.append( (r, 1) )\n",
    "    words = word_tokenize(r)\n",
    "    pos = nltk.pos_tag(words)\n",
    "    for w in pos:\n",
    "        all_words.append(lemmatizer.lemmatize( w[0].lower()) )\n",
    "for r in posShort.split(\"\\n\"):\n",
    "    documents.append( (r, 0) )\n",
    "    words = word_tokenize(r)\n",
    "    pos = nltk.pos_tag(words)\n",
    "    for w in pos:\n",
    "        all_words.append(lemmatizer.lemmatize( w[0].lower()) )\n",
    "\n",
    "\n",
    "for r in negMovie:\n",
    "    documents.append( (r, 1) )\n",
    "    words = word_tokenize(r)\n",
    "    pos = nltk.pos_tag(words)\n",
    "    for w in pos:\n",
    "        all_words.append(lemmatizer.lemmatize( w[0].lower()) )\n",
    "\n",
    "for r in posMovie:\n",
    "    documents.append( (r, 0) )\n",
    "    words = word_tokenize(r)\n",
    "    pos = nltk.pos_tag(words)\n",
    "    for w in pos:\n",
    "        all_words.append(lemmatizer.lemmatize( w[0].lower()) )"
   ]
  },
  {
   "cell_type": "code",
   "execution_count": 61,
   "metadata": {},
   "outputs": [],
   "source": [
    "all_words = nltk.FreqDist(all_words)\n",
    "word_features = list(all_words.keys())[:len(all_words.keys())//5]"
   ]
  },
  {
   "cell_type": "code",
   "execution_count": 62,
   "metadata": {},
   "outputs": [],
   "source": [
    "def find_features(document):\n",
    "    words = word_tokenize(document)\n",
    "    lem_words = [lemmatizer.lemmatize(w) for w in words]\n",
    "    features = []\n",
    "    for w in word_features:\n",
    "        features.append(int(w in lem_words))\n",
    "\n",
    "    return features"
   ]
  },
  {
   "cell_type": "code",
   "execution_count": 63,
   "metadata": {},
   "outputs": [
    {
     "data": {
      "text/plain": [
       "12664"
      ]
     },
     "execution_count": 63,
     "metadata": {},
     "output_type": "execute_result"
    }
   ],
   "source": [
    "len(documents)"
   ]
  },
  {
   "cell_type": "code",
   "execution_count": 64,
   "metadata": {},
   "outputs": [],
   "source": [
    "random.shuffle(documents)\n",
    "featuresets = [(find_features(rev), category) for (rev, category) in documents]"
   ]
  },
  {
   "cell_type": "code",
   "execution_count": 65,
   "metadata": {},
   "outputs": [],
   "source": [
    "x_train, x_test, y_train, y_test = train_test_split(np.array([i[0] for i in featuresets]), np.array([i[1] for i in featuresets]), test_size=0.2, random_state=42)"
   ]
  },
  {
   "cell_type": "code",
   "execution_count": 66,
   "metadata": {},
   "outputs": [
    {
     "data": {
      "text/plain": [
       "(10131, 9423)"
      ]
     },
     "execution_count": 66,
     "metadata": {},
     "output_type": "execute_result"
    }
   ],
   "source": [
    "x_train.shape"
   ]
  },
  {
   "cell_type": "code",
   "execution_count": 67,
   "metadata": {},
   "outputs": [
    {
     "data": {
      "text/plain": [
       "(10131,)"
      ]
     },
     "execution_count": 67,
     "metadata": {},
     "output_type": "execute_result"
    }
   ],
   "source": [
    "y_train.shape"
   ]
  },
  {
   "cell_type": "code",
   "execution_count": 68,
   "metadata": {},
   "outputs": [
    {
     "data": {
      "text/plain": [
       "(0, 1)"
      ]
     },
     "execution_count": 68,
     "metadata": {},
     "output_type": "execute_result"
    }
   ],
   "source": [
    "x_train.min(), x_train.max()"
   ]
  },
  {
   "cell_type": "code",
   "execution_count": 69,
   "metadata": {},
   "outputs": [
    {
     "data": {
      "text/plain": [
       "(0, 1)"
      ]
     },
     "execution_count": 69,
     "metadata": {},
     "output_type": "execute_result"
    }
   ],
   "source": [
    "y_train.min(), y_train.max()"
   ]
  },
  {
   "cell_type": "code",
   "execution_count": 70,
   "metadata": {},
   "outputs": [],
   "source": [
    "model = tf.keras.Sequential()\n",
    "IN_DIM=len(x_train[0])"
   ]
  },
  {
   "cell_type": "code",
   "execution_count": 85,
   "metadata": {},
   "outputs": [],
   "source": [
    "model.add(keras.layers.Dense(units=1024, activation='relu', input_dim=IN_DIM))\n",
    "model.add(keras.layers.Dense(units=521, activation='relu'))\n",
    "model.add(keras.layers.Dropout(rate=0.5))\n",
    "model.add(keras.layers.Dense(units=256, activation='relu'))\n",
    "model.add(keras.layers.Dropout(rate=0.5))\n",
    "model.add(keras.layers.Dense(units=128, activation='relu'))\n",
    "model.add(keras.layers.Dropout(rate=0.5))\n",
    "model.add(keras.layers.Dense(units=1, activation='relu'))\n",
    "model.compile(loss=tf.keras.losses.mse, optimizer='adam',metrics=[MAE, MSE, 'accuracy'])"
   ]
  },
  {
   "cell_type": "code",
   "execution_count": 86,
   "metadata": {},
   "outputs": [],
   "source": [
    "curr_time = time.strftime(\"%Y-%m-%d--%H-%M\")\n",
    "MODEL_DIR = os.path.join(PROJ_DIR, \"model\", curr_time)\n",
    "LOG_DIR = os.path.join(PROJ_DIR, \"out\", curr_time)\n",
    "for d in [MODEL_DIR, LOG_DIR]:\n",
    "    if not os.path.isdir(d):\n",
    "        os.mkdir(d)"
   ]
  },
  {
   "cell_type": "code",
   "execution_count": 83,
   "metadata": {},
   "outputs": [],
   "source": [
    "model_checkpoint = ModelCheckpoint(\"%s/weights.{epoch:02d}-{loss:.2f}.hdf5\" % (MODEL_DIR))\n",
    "tensor_board = TensorBoard(log_dir=LOG_DIR, write_graph=True)"
   ]
  },
  {
   "cell_type": "code",
   "execution_count": 87,
   "metadata": {},
   "outputs": [
    {
     "name": "stdout",
     "output_type": "stream",
     "text": [
      "Train on 10131 samples, validate on 2533 samples\n",
      "Epoch 1/25\n",
      "10131/10131 [==============================] - 27s 3ms/step - loss: 0.2145 - mean_absolute_error: 0.3606 - mean_squared_error: 0.2145 - acc: 0.7543 - val_loss: 0.2635 - val_mean_absolute_error: 0.3255 - val_mean_squared_error: 0.2635 - val_acc: 0.7039\n",
      "Epoch 2/25\n",
      "10131/10131 [==============================] - 26s 3ms/step - loss: 0.0652 - mean_absolute_error: 0.1556 - mean_squared_error: 0.0652 - acc: 0.9490 - val_loss: 0.2180 - val_mean_absolute_error: 0.3106 - val_mean_squared_error: 0.2180 - val_acc: 0.7386\n",
      "Epoch 3/25\n",
      "10131/10131 [==============================] - 26s 3ms/step - loss: 0.0547 - mean_absolute_error: 0.1322 - mean_squared_error: 0.0547 - acc: 0.9550 - val_loss: 0.2443 - val_mean_absolute_error: 0.3222 - val_mean_squared_error: 0.2443 - val_acc: 0.7110\n",
      "Epoch 4/25\n",
      "10131/10131 [==============================] - 27s 3ms/step - loss: 0.0534 - mean_absolute_error: 0.1366 - mean_squared_error: 0.0534 - acc: 0.9543 - val_loss: 0.2557 - val_mean_absolute_error: 0.3302 - val_mean_squared_error: 0.2557 - val_acc: 0.6988\n",
      "Epoch 5/25\n",
      "10131/10131 [==============================] - 30s 3ms/step - loss: 0.0503 - mean_absolute_error: 0.1270 - mean_squared_error: 0.0503 - acc: 0.9575 - val_loss: 0.2891 - val_mean_absolute_error: 0.3276 - val_mean_squared_error: 0.2891 - val_acc: 0.6869\n",
      "Epoch 6/25\n",
      "10131/10131 [==============================] - 29s 3ms/step - loss: 0.0673 - mean_absolute_error: 0.1614 - mean_squared_error: 0.0673 - acc: 0.9365 - val_loss: 0.2490 - val_mean_absolute_error: 0.3222 - val_mean_squared_error: 0.2490 - val_acc: 0.7067\n",
      "Epoch 7/25\n",
      "10131/10131 [==============================] - 25s 3ms/step - loss: 0.0579 - mean_absolute_error: 0.1437 - mean_squared_error: 0.0579 - acc: 0.9452 - val_loss: 0.2536 - val_mean_absolute_error: 0.3381 - val_mean_squared_error: 0.2536 - val_acc: 0.6913\n",
      "Epoch 8/25\n",
      "10131/10131 [==============================] - 26s 3ms/step - loss: 0.0735 - mean_absolute_error: 0.1684 - mean_squared_error: 0.0735 - acc: 0.9232 - val_loss: 0.2340 - val_mean_absolute_error: 0.4031 - val_mean_squared_error: 0.2340 - val_acc: 0.6392\n",
      "Epoch 9/25\n",
      "10131/10131 [==============================] - 26s 3ms/step - loss: 0.0706 - mean_absolute_error: 0.1625 - mean_squared_error: 0.0706 - acc: 0.9302 - val_loss: 0.2285 - val_mean_absolute_error: 0.3948 - val_mean_squared_error: 0.2285 - val_acc: 0.6976\n",
      "Epoch 10/25\n",
      "10131/10131 [==============================] - 26s 3ms/step - loss: 0.0738 - mean_absolute_error: 0.1519 - mean_squared_error: 0.0738 - acc: 0.9258 - val_loss: 0.2301 - val_mean_absolute_error: 0.3261 - val_mean_squared_error: 0.2301 - val_acc: 0.7201\n",
      "Epoch 11/25\n",
      "10131/10131 [==============================] - 26s 3ms/step - loss: 0.0530 - mean_absolute_error: 0.1214 - mean_squared_error: 0.0530 - acc: 0.9493 - val_loss: 0.2418 - val_mean_absolute_error: 0.2782 - val_mean_squared_error: 0.2418 - val_acc: 0.7359\n",
      "Epoch 12/25\n",
      "10131/10131 [==============================] - 27s 3ms/step - loss: 0.0465 - mean_absolute_error: 0.1047 - mean_squared_error: 0.0465 - acc: 0.9558 - val_loss: 0.2388 - val_mean_absolute_error: 0.2881 - val_mean_squared_error: 0.2388 - val_acc: 0.7327\n",
      "Epoch 13/25\n",
      "10131/10131 [==============================] - 27s 3ms/step - loss: 0.0479 - mean_absolute_error: 0.1025 - mean_squared_error: 0.0479 - acc: 0.9532 - val_loss: 0.2187 - val_mean_absolute_error: 0.2787 - val_mean_squared_error: 0.2187 - val_acc: 0.7469\n",
      "Epoch 14/25\n",
      "10131/10131 [==============================] - 27s 3ms/step - loss: 0.0431 - mean_absolute_error: 0.0959 - mean_squared_error: 0.0431 - acc: 0.9570 - val_loss: 0.2370 - val_mean_absolute_error: 0.2744 - val_mean_squared_error: 0.2370 - val_acc: 0.7363\n",
      "Epoch 15/25\n",
      "10131/10131 [==============================] - 27s 3ms/step - loss: 0.0246 - mean_absolute_error: 0.0645 - mean_squared_error: 0.0246 - acc: 0.9805 - val_loss: 0.2461 - val_mean_absolute_error: 0.2653 - val_mean_squared_error: 0.2461 - val_acc: 0.7375\n",
      "Epoch 16/25\n",
      "10131/10131 [==============================] - 27s 3ms/step - loss: 0.0230 - mean_absolute_error: 0.0608 - mean_squared_error: 0.0230 - acc: 0.9810 - val_loss: 0.2280 - val_mean_absolute_error: 0.2534 - val_mean_squared_error: 0.2280 - val_acc: 0.7521\n",
      "Epoch 17/25\n",
      "10131/10131 [==============================] - 27s 3ms/step - loss: 0.0205 - mean_absolute_error: 0.0566 - mean_squared_error: 0.0205 - acc: 0.9839 - val_loss: 0.2332 - val_mean_absolute_error: 0.2550 - val_mean_squared_error: 0.2332 - val_acc: 0.7477\n",
      "Epoch 18/25\n",
      "10131/10131 [==============================] - 28s 3ms/step - loss: 0.0195 - mean_absolute_error: 0.0559 - mean_squared_error: 0.0195 - acc: 0.9844 - val_loss: 0.2456 - val_mean_absolute_error: 0.2792 - val_mean_squared_error: 0.2456 - val_acc: 0.7327\n",
      "Epoch 19/25\n",
      "10131/10131 [==============================] - 28s 3ms/step - loss: 0.0179 - mean_absolute_error: 0.0512 - mean_squared_error: 0.0179 - acc: 0.9857 - val_loss: 0.2281 - val_mean_absolute_error: 0.2580 - val_mean_squared_error: 0.2281 - val_acc: 0.7434\n",
      "Epoch 20/25\n",
      "10131/10131 [==============================] - 30s 3ms/step - loss: 0.0209 - mean_absolute_error: 0.0553 - mean_squared_error: 0.0209 - acc: 0.9818 - val_loss: 0.2322 - val_mean_absolute_error: 0.3466 - val_mean_squared_error: 0.2322 - val_acc: 0.7063\n",
      "Epoch 21/25\n",
      "10131/10131 [==============================] - 28s 3ms/step - loss: 0.0193 - mean_absolute_error: 0.0527 - mean_squared_error: 0.0193 - acc: 0.9843 - val_loss: 0.2523 - val_mean_absolute_error: 0.2718 - val_mean_squared_error: 0.2523 - val_acc: 0.7375\n",
      "Epoch 22/25\n",
      "10131/10131 [==============================] - 28s 3ms/step - loss: 0.0156 - mean_absolute_error: 0.0467 - mean_squared_error: 0.0156 - acc: 0.9880 - val_loss: 0.2377 - val_mean_absolute_error: 0.2586 - val_mean_squared_error: 0.2377 - val_acc: 0.7465\n",
      "Epoch 23/25\n",
      "10131/10131 [==============================] - 29s 3ms/step - loss: 0.0148 - mean_absolute_error: 0.0441 - mean_squared_error: 0.0148 - acc: 0.9885 - val_loss: 0.2360 - val_mean_absolute_error: 0.2548 - val_mean_squared_error: 0.2360 - val_acc: 0.7481\n",
      "Epoch 24/25\n",
      "10131/10131 [==============================] - 29s 3ms/step - loss: 0.0144 - mean_absolute_error: 0.0432 - mean_squared_error: 0.0144 - acc: 0.9888 - val_loss: 0.2453 - val_mean_absolute_error: 0.2622 - val_mean_squared_error: 0.2453 - val_acc: 0.7434\n",
      "Epoch 25/25\n",
      "10131/10131 [==============================] - 29s 3ms/step - loss: 0.0158 - mean_absolute_error: 0.0448 - mean_squared_error: 0.0158 - acc: 0.9867 - val_loss: 0.2241 - val_mean_absolute_error: 0.2723 - val_mean_squared_error: 0.2241 - val_acc: 0.7485\n"
     ]
    },
    {
     "data": {
      "text/plain": [
       "<tensorflow.python.keras.callbacks.History at 0x7f1073c1eb70>"
      ]
     },
     "execution_count": 87,
     "metadata": {},
     "output_type": "execute_result"
    }
   ],
   "source": [
    "model.fit(x_train, y_train, batch_size=100, epochs=25,validation_data=(x_test,y_test), callbacks=[model_checkpoint, tensor_board])"
   ]
  },
  {
   "cell_type": "code",
   "execution_count": 98,
   "metadata": {},
   "outputs": [
    {
     "name": "stdout",
     "output_type": "stream",
     "text": [
      "              precision    recall  f1-score   support\n",
      "\n",
      "           0       0.71      0.84      0.77      1256\n",
      "           1       0.81      0.65      0.72      1277\n",
      "\n",
      "   micro avg       0.75      0.75      0.75      2533\n",
      "   macro avg       0.76      0.75      0.75      2533\n",
      "weighted avg       0.76      0.75      0.75      2533\n",
      "\n"
     ]
    }
   ],
   "source": [
    "print(classification_report(y_test, np.round(model.predict(x_test))))"
   ]
  },
  {
   "cell_type": "code",
   "execution_count": null,
   "metadata": {},
   "outputs": [],
   "source": []
  },
  {
   "cell_type": "code",
   "execution_count": null,
   "metadata": {},
   "outputs": [],
   "source": []
  },
  {
   "cell_type": "code",
   "execution_count": null,
   "metadata": {},
   "outputs": [],
   "source": []
  },
  {
   "cell_type": "code",
   "execution_count": null,
   "metadata": {},
   "outputs": [],
   "source": []
  }
 ],
 "metadata": {
  "kernelspec": {
   "display_name": "Python 3",
   "language": "python",
   "name": "python3"
  },
  "language_info": {
   "codemirror_mode": {
    "name": "ipython",
    "version": 3
   },
   "file_extension": ".py",
   "mimetype": "text/x-python",
   "name": "python",
   "nbconvert_exporter": "python",
   "pygments_lexer": "ipython3",
   "version": "3.6.5"
  }
 },
 "nbformat": 4,
 "nbformat_minor": 2
}
